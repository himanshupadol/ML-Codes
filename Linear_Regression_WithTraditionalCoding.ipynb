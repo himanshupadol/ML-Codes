{
  "nbformat": 4,
  "nbformat_minor": 0,
  "metadata": {
    "colab": {
      "provenance": [],
      "authorship_tag": "ABX9TyNqrxc0tulJmbF9uYgEvAYe",
      "include_colab_link": true
    },
    "kernelspec": {
      "name": "python3",
      "display_name": "Python 3"
    },
    "language_info": {
      "name": "python"
    }
  },
  "cells": [
    {
      "cell_type": "markdown",
      "metadata": {
        "id": "view-in-github",
        "colab_type": "text"
      },
      "source": [
        "<a href=\"https://colab.research.google.com/github/himanshupadol/ML-Codes/blob/main/Linear_Regression_WithBasicCoding.ipynb\" target=\"_parent\"><img src=\"https://colab.research.google.com/assets/colab-badge.svg\" alt=\"Open In Colab\"/></a>"
      ]
    },
    {
      "cell_type": "markdown",
      "source": [
        "# **MAIN CODE**"
      ],
      "metadata": {
        "id": "LkJDCAE3J3li"
      }
    },
    {
      "cell_type": "markdown",
      "source": [
        "## **linear regression**"
      ],
      "metadata": {
        "id": "WmYXQaQVrZUf"
      }
    },
    {
      "cell_type": "code",
      "source": [
        "# y = xw + b\n",
        "# predictions = features.dot(w)"
      ],
      "metadata": {
        "id": "jHvVh-P9rdlV"
      },
      "execution_count": null,
      "outputs": []
    },
    {
      "cell_type": "markdown",
      "source": [
        "## **cost function**"
      ],
      "metadata": {
        "id": "O41F_Sb_grzm"
      }
    },
    {
      "cell_type": "code",
      "execution_count": null,
      "metadata": {
        "id": "P90a8guygiYf"
      },
      "outputs": [],
      "source": [
        "def costfunc(x,y,w):\n",
        "  n=len(y) # getting the number of instances in the dataset\n",
        "  predictions = scaled_features.dot(w)\n",
        "  cost = (1/n) * np.sum(np.square(predictions-y))\n",
        "  return cost"
      ]
    },
    {
      "cell_type": "markdown",
      "source": [
        "## **optimization function - gradient descent**"
      ],
      "metadata": {
        "id": "9l_M3TTeuW7Q"
      }
    },
    {
      "cell_type": "code",
      "source": [
        "def grad_descent(x,y,w,lern_rate,iters):\n",
        "  cost_hist = np.zeros(iters) # creating 1D array of number of zeros equal to number of iterations\n",
        "  n=len(y) # getting the number of instances in the dataset\n",
        "\n",
        "  for i in range(iters):\n",
        "    predictions = scaled_features.dot(w) # applying linear function for each func\n",
        "    error = y - predictions # calculating error\n",
        "\n",
        "    gradient = -(2/n) * scaled_features.T.dot(error) # computing gradient (derivative)\n",
        "    w = w - lern_rate * gradient # weight updatation\n",
        "\n",
        "    cost_hist[i] = costfunc(x,y,w) # computing and storing the cost of each iteration in a 1D array\n",
        "\n",
        "  return w, cost_hist"
      ],
      "metadata": {
        "id": "-LBBudcHudDU"
      },
      "execution_count": null,
      "outputs": []
    },
    {
      "cell_type": "markdown",
      "source": [
        "# **TRAINING THE MODEL**"
      ],
      "metadata": {
        "id": "7Ekanxm7KozF"
      }
    },
    {
      "cell_type": "markdown",
      "source": [
        "### **Loading the data in IDE**"
      ],
      "metadata": {
        "id": "wDmiPp7vR3-c"
      }
    },
    {
      "cell_type": "code",
      "source": [
        "import pandas as pd\n",
        "\n",
        "# enter the path of the csv file\n",
        "filename = str(input(\"Enter path of csv file: \"))\n",
        "data = pd.read_csv(filename)"
      ],
      "metadata": {
        "colab": {
          "base_uri": "https://localhost:8080/"
        },
        "id": "L1NIsNqmKoQ0",
        "outputId": "afc529dd-f6c1-45eb-b367-ea2aa0f65662"
      },
      "execution_count": null,
      "outputs": [
        {
          "name": "stdout",
          "output_type": "stream",
          "text": [
            "Enter path of csv file: /content/FuelConsumption.csv\n"
          ]
        }
      ]
    },
    {
      "cell_type": "markdown",
      "source": [
        "### **Feature selection**"
      ],
      "metadata": {
        "id": "H60S7R3bTmDr"
      }
    },
    {
      "cell_type": "code",
      "source": [
        "data.shape"
      ],
      "metadata": {
        "colab": {
          "base_uri": "https://localhost:8080/"
        },
        "id": "jJTgce52T3Hm",
        "outputId": "280a562d-4e6f-4ef0-d71e-de804ef0fd11"
      },
      "execution_count": null,
      "outputs": [
        {
          "output_type": "execute_result",
          "data": {
            "text/plain": [
              "(1067, 13)"
            ]
          },
          "metadata": {},
          "execution_count": 7
        }
      ]
    },
    {
      "cell_type": "code",
      "source": [
        "data.columns"
      ],
      "metadata": {
        "colab": {
          "base_uri": "https://localhost:8080/"
        },
        "id": "6YXzRoILT5ZX",
        "outputId": "a60330b7-10af-4f8d-951e-0eedaaf2980c"
      },
      "execution_count": null,
      "outputs": [
        {
          "output_type": "execute_result",
          "data": {
            "text/plain": [
              "Index(['MODELYEAR', 'MAKE', 'MODEL', 'VEHICLECLASS', 'ENGINESIZE', 'CYLINDERS',\n",
              "       'TRANSMISSION', 'FUELTYPE', 'FUELCONSUMPTION_CITY',\n",
              "       'FUELCONSUMPTION_HWY', 'FUELCONSUMPTION_COMB',\n",
              "       'FUELCONSUMPTION_COMB_MPG', 'CO2EMISSIONS'],\n",
              "      dtype='object')"
            ]
          },
          "metadata": {},
          "execution_count": 8
        }
      ]
    },
    {
      "cell_type": "code",
      "source": [
        "data.isnull().sum()"
      ],
      "metadata": {
        "colab": {
          "base_uri": "https://localhost:8080/",
          "height": 492
        },
        "id": "QdvCjnkOdoed",
        "outputId": "34c8bb67-a278-4160-ad27-4c9ff247a3a3"
      },
      "execution_count": null,
      "outputs": [
        {
          "output_type": "execute_result",
          "data": {
            "text/plain": [
              "MODELYEAR                   0\n",
              "MAKE                        0\n",
              "MODEL                       0\n",
              "VEHICLECLASS                0\n",
              "ENGINESIZE                  0\n",
              "CYLINDERS                   0\n",
              "TRANSMISSION                0\n",
              "FUELTYPE                    0\n",
              "FUELCONSUMPTION_CITY        0\n",
              "FUELCONSUMPTION_HWY         0\n",
              "FUELCONSUMPTION_COMB        0\n",
              "FUELCONSUMPTION_COMB_MPG    0\n",
              "CO2EMISSIONS                0\n",
              "dtype: int64"
            ],
            "text/html": [
              "<div>\n",
              "<style scoped>\n",
              "    .dataframe tbody tr th:only-of-type {\n",
              "        vertical-align: middle;\n",
              "    }\n",
              "\n",
              "    .dataframe tbody tr th {\n",
              "        vertical-align: top;\n",
              "    }\n",
              "\n",
              "    .dataframe thead th {\n",
              "        text-align: right;\n",
              "    }\n",
              "</style>\n",
              "<table border=\"1\" class=\"dataframe\">\n",
              "  <thead>\n",
              "    <tr style=\"text-align: right;\">\n",
              "      <th></th>\n",
              "      <th>0</th>\n",
              "    </tr>\n",
              "  </thead>\n",
              "  <tbody>\n",
              "    <tr>\n",
              "      <th>MODELYEAR</th>\n",
              "      <td>0</td>\n",
              "    </tr>\n",
              "    <tr>\n",
              "      <th>MAKE</th>\n",
              "      <td>0</td>\n",
              "    </tr>\n",
              "    <tr>\n",
              "      <th>MODEL</th>\n",
              "      <td>0</td>\n",
              "    </tr>\n",
              "    <tr>\n",
              "      <th>VEHICLECLASS</th>\n",
              "      <td>0</td>\n",
              "    </tr>\n",
              "    <tr>\n",
              "      <th>ENGINESIZE</th>\n",
              "      <td>0</td>\n",
              "    </tr>\n",
              "    <tr>\n",
              "      <th>CYLINDERS</th>\n",
              "      <td>0</td>\n",
              "    </tr>\n",
              "    <tr>\n",
              "      <th>TRANSMISSION</th>\n",
              "      <td>0</td>\n",
              "    </tr>\n",
              "    <tr>\n",
              "      <th>FUELTYPE</th>\n",
              "      <td>0</td>\n",
              "    </tr>\n",
              "    <tr>\n",
              "      <th>FUELCONSUMPTION_CITY</th>\n",
              "      <td>0</td>\n",
              "    </tr>\n",
              "    <tr>\n",
              "      <th>FUELCONSUMPTION_HWY</th>\n",
              "      <td>0</td>\n",
              "    </tr>\n",
              "    <tr>\n",
              "      <th>FUELCONSUMPTION_COMB</th>\n",
              "      <td>0</td>\n",
              "    </tr>\n",
              "    <tr>\n",
              "      <th>FUELCONSUMPTION_COMB_MPG</th>\n",
              "      <td>0</td>\n",
              "    </tr>\n",
              "    <tr>\n",
              "      <th>CO2EMISSIONS</th>\n",
              "      <td>0</td>\n",
              "    </tr>\n",
              "  </tbody>\n",
              "</table>\n",
              "</div><br><label><b>dtype:</b> int64</label>"
            ]
          },
          "metadata": {},
          "execution_count": 9
        }
      ]
    },
    {
      "cell_type": "code",
      "source": [
        "# select the features\n",
        "\n",
        "k = input(\"Enter name of column(s): \") # enter name of columns for selecting features\n",
        "features = data[[k]].values\n",
        "\n",
        "# assign the label column to label variable\n",
        "k1 = input(\"Enter name of column(s): \") # enter name of columns for selecting label\n",
        "labels = data[k1].values"
      ],
      "metadata": {
        "colab": {
          "base_uri": "https://localhost:8080/"
        },
        "id": "w1LGQjNATtQT",
        "outputId": "4757084d-bd3a-4332-8ae5-fa899050d305"
      },
      "execution_count": null,
      "outputs": [
        {
          "name": "stdout",
          "output_type": "stream",
          "text": [
            "Enter name of column(s): ENGINESIZE\n",
            "Enter name of column(s): CO2EMISSIONS\n"
          ]
        }
      ]
    },
    {
      "cell_type": "markdown",
      "source": [
        "### **Scaling the features**"
      ],
      "metadata": {
        "id": "ZeLtKehnSUKf"
      }
    },
    {
      "cell_type": "code",
      "source": [
        "from sklearn.preprocessing import StandardScaler\n",
        "scaler = StandardScaler()\n",
        "\n",
        "scaled_features = scaler.fit_transform(features)"
      ],
      "metadata": {
        "id": "6HFdL8LiSTZK"
      },
      "execution_count": null,
      "outputs": []
    },
    {
      "cell_type": "code",
      "source": [
        "scaled_features.shape"
      ],
      "metadata": {
        "colab": {
          "base_uri": "https://localhost:8080/"
        },
        "id": "hE0d83XkjXzd",
        "outputId": "392bb70a-9693-4956-ead6-214ba221be69"
      },
      "execution_count": null,
      "outputs": [
        {
          "output_type": "execute_result",
          "data": {
            "text/plain": [
              "(1067, 1)"
            ]
          },
          "metadata": {},
          "execution_count": 25
        }
      ]
    },
    {
      "cell_type": "code",
      "source": [
        "scaled_features[:6]"
      ],
      "metadata": {
        "colab": {
          "base_uri": "https://localhost:8080/"
        },
        "id": "ouOIZCW0jgcF",
        "outputId": "cb8b1f3c-b24b-47b6-b73d-dba80c8c6361"
      },
      "execution_count": null,
      "outputs": [
        {
          "output_type": "execute_result",
          "data": {
            "text/plain": [
              "array([[-0.9512918 ],\n",
              "       [-0.66865251],\n",
              "       [-1.30459092],\n",
              "       [ 0.10860554],\n",
              "       [ 0.10860554],\n",
              "       [ 0.10860554]])"
            ]
          },
          "metadata": {},
          "execution_count": 29
        }
      ]
    },
    {
      "cell_type": "markdown",
      "source": [
        "### **Initializing weight of the features**"
      ],
      "metadata": {
        "id": "6ZJLCUR2WZy9"
      }
    },
    {
      "cell_type": "code",
      "source": [
        "# creating 1D array of zeros with shape simlar to number of columns in feature set\n",
        "\n",
        "import numpy as np\n",
        "\n",
        "# initializing weights as zero\n",
        "w = np.zeros(scaled_features.shape[1])"
      ],
      "metadata": {
        "id": "PNnwbsG9pfh2"
      },
      "execution_count": null,
      "outputs": []
    },
    {
      "cell_type": "markdown",
      "source": [
        "### **Applying linear function (or regression) algorithm to the data**"
      ],
      "metadata": {
        "id": "sF08comYXKRj"
      }
    },
    {
      "cell_type": "code",
      "source": [
        "y_pred_1 = np.dot(scaled_features, w)"
      ],
      "metadata": {
        "id": "PsaDTQt3XUsa"
      },
      "execution_count": null,
      "outputs": []
    },
    {
      "cell_type": "markdown",
      "source": [
        "### **Evaluating performance of the algorithm**"
      ],
      "metadata": {
        "id": "VmWtQAK9XhV7"
      }
    },
    {
      "cell_type": "code",
      "source": [
        "# using the mean squared error metric\n",
        "mse_1 = np.mean(np.square(y_pred_1 - labels))\n",
        "print(mse_1)"
      ],
      "metadata": {
        "colab": {
          "base_uri": "https://localhost:8080/"
        },
        "id": "9PRxgebcXrU6",
        "outputId": "1a8aa1c4-dc6d-4557-b574-b51e75efdf4a"
      },
      "execution_count": null,
      "outputs": [
        {
          "output_type": "stream",
          "name": "stdout",
          "text": [
            "69665.42080599813\n"
          ]
        }
      ]
    },
    {
      "cell_type": "markdown",
      "source": [
        "### **Setting up parameters for the model**"
      ],
      "metadata": {
        "id": "HYgo8L04SEDc"
      }
    },
    {
      "cell_type": "code",
      "source": [
        "# enter learning rate for the algorithm\n",
        "lern_rate = float(input(\"Enter learning rate: \"))\n",
        "\n",
        "# enter number of iterations for the algorithm\n",
        "iters = int(input(\"Enter number of iterations: \"))"
      ],
      "metadata": {
        "colab": {
          "base_uri": "https://localhost:8080/"
        },
        "id": "O3A2qUVcSGcY",
        "outputId": "34bc75b8-637d-4952-e94e-b69dfe1fc55c"
      },
      "execution_count": null,
      "outputs": [
        {
          "name": "stdout",
          "output_type": "stream",
          "text": [
            "Enter learning rate: 0.03\n",
            "Enter number of iterations: 250\n"
          ]
        }
      ]
    },
    {
      "cell_type": "markdown",
      "source": [
        "### **Applying Optimization**"
      ],
      "metadata": {
        "id": "vgz6XSBJYLup"
      }
    },
    {
      "cell_type": "code",
      "source": [
        "w_opt, cost_hist_opt = grad_descent(scaled_features, labels, w, lern_rate, iters)"
      ],
      "metadata": {
        "id": "npZ72Nv4YVy6"
      },
      "execution_count": null,
      "outputs": []
    },
    {
      "cell_type": "markdown",
      "source": [
        "***Viewing the optimum weights and changes in error after optimization***"
      ],
      "metadata": {
        "id": "lprUo4lVaJ8D"
      }
    },
    {
      "cell_type": "code",
      "source": [
        "print(\"Optimal weights (or parameters): \", w_opt)\n",
        "# print(\"Array of optimized errors (The last value in the array is the optimul value): \", cost_hist_opt)"
      ],
      "metadata": {
        "colab": {
          "base_uri": "https://localhost:8080/"
        },
        "id": "Kp_CEQjLaVhA",
        "outputId": "b2845dd6-1915-4ea2-e53c-6df64d5e9d70"
      },
      "execution_count": null,
      "outputs": [
        {
          "output_type": "stream",
          "name": "stdout",
          "text": [
            "Optimal weights (or parameters):  [55.37120077]\n"
          ]
        }
      ]
    },
    {
      "cell_type": "markdown",
      "source": [
        "### **Reapplying the linear function using optimal values**"
      ],
      "metadata": {
        "id": "R2H0woE1bM84"
      }
    },
    {
      "cell_type": "code",
      "source": [
        "y_pred_2 = np.dot(scaled_features, w_opt)"
      ],
      "metadata": {
        "id": "yf2RNx91bdqZ"
      },
      "execution_count": null,
      "outputs": []
    },
    {
      "cell_type": "markdown",
      "source": [
        "### **Evaluating performance of algorithm on optimal weights**"
      ],
      "metadata": {
        "id": "a0jYAxHXbh_E"
      }
    },
    {
      "cell_type": "code",
      "source": [
        "mse_2 = np.mean(np.square(y_pred_2 - labels))\n",
        "print(mse_2)"
      ],
      "metadata": {
        "colab": {
          "base_uri": "https://localhost:8080/"
        },
        "id": "ME9IHy_-bqUV",
        "outputId": "23228d2d-c51a-45a5-cbcf-704650f78b9d"
      },
      "execution_count": null,
      "outputs": [
        {
          "output_type": "stream",
          "name": "stdout",
          "text": [
            "66599.44975802653\n"
          ]
        }
      ]
    },
    {
      "cell_type": "markdown",
      "source": [
        "### **Comparing the two MSE values**"
      ],
      "metadata": {
        "id": "Ds6pQbsEbzR_"
      }
    },
    {
      "cell_type": "code",
      "source": [
        "print(mse_1,'\\n',mse_2)"
      ],
      "metadata": {
        "colab": {
          "base_uri": "https://localhost:8080/"
        },
        "id": "eeyQz7imb58a",
        "outputId": "00d091ba-5ac3-441f-9aa4-2c79a30e0eed"
      },
      "execution_count": null,
      "outputs": [
        {
          "output_type": "stream",
          "name": "stdout",
          "text": [
            "69665.42080599813 \n",
            " 66599.44975802653\n"
          ]
        }
      ]
    }
  ]
}
